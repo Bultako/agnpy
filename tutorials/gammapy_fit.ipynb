{
 "cells": [
  {
   "cell_type": "code",
   "execution_count": 1,
   "metadata": {},
   "outputs": [],
   "source": [
    "import numpy as np\n",
    "from astropy.table import Table\n",
    "import astropy.units as u\n",
    "from astropy.coordinates import Distance\n",
    "import matplotlib.pyplot as plt\n",
    "# gammapy\n",
    "from gammapy.spectrum import FluxPoints, FluxPointsDataset\n",
    "from gammapy.modeling.models import SpectralModel, SkyModel\n",
    "from gammapy.modeling import Parameter, Fit\n",
    "# agnpy\n",
    "from agnpy.emission_regions import Blob\n",
    "from agnpy.synchrotron import Synchrotron\n",
    "from agnpy.compton import SynchrotronSelfCompton"
   ]
  },
  {
   "cell_type": "code",
   "execution_count": 2,
   "metadata": {},
   "outputs": [],
   "source": [
    "ecsv_tab = Table.read(\"sed_mrk421.ecsv\")\n",
    "fluxpoints_tab = Table() "
   ]
  },
  {
   "cell_type": "code",
   "execution_count": 3,
   "metadata": {},
   "outputs": [
    {
     "data": {
      "text/plain": [
       "<matplotlib.axes._subplots.AxesSubplot at 0x11abab978>"
      ]
     },
     "execution_count": 3,
     "metadata": {},
     "output_type": "execute_result"
    },
    {
     "data": {
      "image/png": "[encoded data removed]",
      "text/plain": [
       "<Figure size 432x288 with 1 Axes>"
      ]
     },
     "metadata": {
      "needs_background": "light"
     },
     "output_type": "display_data"
    }
   ],
   "source": [
    "fluxpoints_tab[\"e_ref\"] = ecsv_tab[\"x\"].to(\"eV\", equivalencies=u.spectral())\n",
    "fluxpoints_tab[\"e2dnde\"] = ecsv_tab[\"y\"]\n",
    "fluxpoints_tab[\"e2dnde_err\"] = ecsv_tab[\"dy\"]\n",
    "fluxpoints_tab.meta['SED_TYPE'] = \"e2dnde\"\n",
    "\n",
    "flux_points = FluxPoints(fluxpoints_tab)\n",
    "flux_points.plot(energy_unit=\"eV\")"
   ]
  },
  {
   "cell_type": "code",
   "execution_count": 4,
   "metadata": {},
   "outputs": [
    {
     "name": "stdout",
     "output_type": "stream",
     "text": [
      "normalising broken power-law to total energy density u_e: 1.91e-03 erg / cm3\n"
     ]
    },
    {
     "name": "stderr",
     "output_type": "stream",
     "text": [
      "/Users/cosimo/software/miniconda3/envs/gammapy-0.16/lib/python3.7/site-packages/agnpy/compton.py:24: RuntimeWarning: invalid value encountered in log\n",
      "  term_1 = 2 * q * np.log(q)\n"
     ]
    }
   ],
   "source": [
    "# let's draw a tentative SED, before the fit\n",
    "# blob definition\n",
    "spectrum_norm = 1e48 * u.erg\n",
    "parameters = {\n",
    "        \"p1\": 2.0,\n",
    "        \"p2\": 3.6,\n",
    "        \"gamma_b\": 1e5,\n",
    "        \"gamma_min\": 50,\n",
    "        \"gamma_max\": 2e6,\n",
    "}\n",
    "spectrum_dict = {\"type\": \"BrokenPowerLaw\", \"parameters\": parameters}\n",
    "R_b = 5e16 * u.cm\n",
    "B = 0.1 * u.G\n",
    "z = 0.03\n",
    "delta_D = 10\n",
    "Gamma = 10\n",
    "blob = Blob(R_b, z, delta_D, Gamma, B, spectrum_norm, spectrum_dict)\n",
    "\n",
    "# sycnh and ssc radiation definition\n",
    "synch = Synchrotron(blob)\n",
    "ssc = SynchrotronSelfCompton(blob, synch)\n",
    "\n",
    "nu = np.logspace(9, 27) * u.Hz\n",
    "sed = synch.sed_flux(nu) + ssc.sed_flux(nu)"
   ]
  },
  {
   "cell_type": "code",
   "execution_count": 5,
   "metadata": {},
   "outputs": [
    {
     "data": {
      "image/png": "[encoded data removed]",
      "text/plain": [
       "<Figure size 432x288 with 1 Axes>"
      ]
     },
     "metadata": {
      "needs_background": "light"
     },
     "output_type": "display_data"
    }
   ],
   "source": [
    "fig, ax = plt.subplots()\n",
    "flux_points.plot(energy_unit=\"eV\", ax=ax)\n",
    "e = nu.to(\"eV\", equivalencies=u.spectral())\n",
    "ax.loglog(e, sed)\n",
    "ax.set_ylim([1e-15, 1e-9])\n",
    "plt.show()"
   ]
  },
  {
   "cell_type": "code",
   "execution_count": 6,
   "metadata": {},
   "outputs": [],
   "source": [
    "class SSC(SpectralModel):\n",
    "    r\"\"\"Spectral model with agnpy synchrotron self Compton Radiation\n",
    "    \"\"\"\n",
    "    \n",
    "    tag = \"agnpySSC\"\n",
    "    spectrum_norm = Parameter(\"spectrum_norm\", \"1e48 erg\")\n",
    "    p1 = Parameter(\"p1\", 2.0)\n",
    "    p2 = Parameter(\"p2\", 3.6)\n",
    "    gamma_b = Parameter(\"gamma_b\", 1e5)\n",
    "    B = Parameter(\"B\", \"0.1 G\")\n",
    "    \n",
    "    @staticmethod\n",
    "    def evaluate(energy, spectrum_norm, p1, p2, gamma_b, B):\n",
    "        nu = energy.to(\"Hz\", equivalencies=u.spectral())\n",
    "        \n",
    "        parameters = {\n",
    "            \"p1\": p1,\n",
    "            \"p2\": p2,\n",
    "            \"gamma_b\": gamma_b,\n",
    "            \"gamma_min\": 50,\n",
    "            \"gamma_max\": 2e6,\n",
    "        }\n",
    "        spectrum_dict = {\"type\": \"BrokenPowerLaw\", \"parameters\": parameters}\n",
    "        R_b = 5e16 * u.cm\n",
    "        z = 0.03\n",
    "        delta_D = 10\n",
    "        Gamma = 10\n",
    "        blob = Blob(R_b, z, delta_D, Gamma, B, spectrum_norm, spectrum_dict)\n",
    "        \n",
    "        # sycnh and ssc radiation definition\n",
    "        synch = Synchrotron(blob)\n",
    "        ssc = SynchrotronSelfCompton(blob, synch)\n",
    "\n",
    "        sed = synch.sed_flux(nu) + ssc.sed_flux(nu)\n",
    "        \n",
    "        return (sed / np.power(energy, 2))"
   ]
  },
  {
   "cell_type": "code",
   "execution_count": 9,
   "metadata": {},
   "outputs": [
    {
     "ename": "RuntimeError",
     "evalue": "exception was raised in user function\nUser function arguments:\n    par_000_spectrum_norm = +1.000000\n               par_001_p1 = +2.000000\n               par_002_p2 = +3.600000\n          par_003_gamma_b = +1.000000\n                par_004_B = +1.000000\nOriginal python exception in user function:\nAttributeError: 'Blob' object has no attribute 'n_e'\n  File \"/Users/cosimo/software/miniconda3/envs/gammapy-0.16/lib/python3.7/site-packages/gammapy/modeling/iminuit.py\", line 17, in fcn\n    return self.function()\n  File \"/Users/cosimo/software/miniconda3/envs/gammapy-0.16/lib/python3.7/site-packages/gammapy/modeling/datasets.py\", line 149, in stat_sum\n    stat_sum += dataset.stat_sum()\n  File \"/Users/cosimo/software/miniconda3/envs/gammapy-0.16/lib/python3.7/site-packages/gammapy/modeling/datasets.py\", line 55, in stat_sum\n    stat = self.stat_array()\n  File \"/Users/cosimo/software/miniconda3/envs/gammapy-0.16/lib/python3.7/site-packages/gammapy/spectrum/flux_point.py\", line 1359, in stat_array\n    model = self.flux_pred()\n  File \"/Users/cosimo/software/miniconda3/envs/gammapy-0.16/lib/python3.7/site-packages/gammapy/spectrum/flux_point.py\", line 1354, in flux_pred\n    flux += component.spectral_model(self.data.e_ref)\n  File \"/Users/cosimo/software/miniconda3/envs/gammapy-0.16/lib/python3.7/site-packages/gammapy/modeling/models/spectral.py\", line 63, in __call__\n    return self.evaluate(energy, **kwargs)\n  File \"<ipython-input-6-66a347560d4a>\", line 32, in evaluate\n    ssc = SynchrotronSelfCompton(blob, synch)\n  File \"/Users/cosimo/software/miniconda3/envs/gammapy-0.16/lib/python3.7/site-packages/agnpy/compton.py\", line 152, in __init__\n    self.epsilon_syn\n  File \"/Users/cosimo/software/miniconda3/envs/gammapy-0.16/lib/python3.7/site-packages/agnpy/synchrotron.py\", line 130, in com_sed_emissivity\n    N_e = self.blob.N_e(gamma).value\n  File \"/Users/cosimo/software/miniconda3/envs/gammapy-0.16/lib/python3.7/site-packages/agnpy/emission_regions.py\", line 150, in N_e\n    return self.V_b * self.n_e(gamma)\n",
     "output_type": "error",
     "traceback": [
      "\u001b[0;31m---------------------------------------------------------------------------\u001b[0m",
      "\u001b[0;31mRuntimeError\u001b[0m                              Traceback (most recent call last)",
      "\u001b[0;32m<ipython-input-9-b69f86b2b324>\u001b[0m in \u001b[0;36m<module>\u001b[0;34m\u001b[0m\n\u001b[1;32m      3\u001b[0m \u001b[0mdataset_ssc\u001b[0m \u001b[0;34m=\u001b[0m \u001b[0mFluxPointsDataset\u001b[0m\u001b[0;34m(\u001b[0m\u001b[0mmodel\u001b[0m\u001b[0;34m,\u001b[0m \u001b[0mflux_points\u001b[0m\u001b[0;34m.\u001b[0m\u001b[0mto_sed_type\u001b[0m\u001b[0;34m(\u001b[0m\u001b[0;34m\"dnde\"\u001b[0m\u001b[0;34m)\u001b[0m\u001b[0;34m)\u001b[0m\u001b[0;34m\u001b[0m\u001b[0m\n\u001b[1;32m      4\u001b[0m \u001b[0mfitter\u001b[0m \u001b[0;34m=\u001b[0m \u001b[0mFit\u001b[0m\u001b[0;34m(\u001b[0m\u001b[0;34m[\u001b[0m\u001b[0mdataset_ssc\u001b[0m\u001b[0;34m]\u001b[0m\u001b[0;34m)\u001b[0m\u001b[0;34m\u001b[0m\u001b[0m\n\u001b[0;32m----> 5\u001b[0;31m \u001b[0mresult_ssc\u001b[0m \u001b[0;34m=\u001b[0m \u001b[0mfitter\u001b[0m\u001b[0;34m.\u001b[0m\u001b[0mrun\u001b[0m\u001b[0;34m(\u001b[0m\u001b[0;34m)\u001b[0m\u001b[0;34m\u001b[0m\u001b[0m\n\u001b[0m",
      "\u001b[0;32m~/software/miniconda3/envs/gammapy-0.16/lib/python3.7/site-packages/gammapy/modeling/fit.py\u001b[0m in \u001b[0;36mrun\u001b[0;34m(self, optimize_opts, covariance_opts)\u001b[0m\n\u001b[1;32m     95\u001b[0m         \u001b[0;32mif\u001b[0m \u001b[0moptimize_opts\u001b[0m \u001b[0;32mis\u001b[0m \u001b[0;32mNone\u001b[0m\u001b[0;34m:\u001b[0m\u001b[0;34m\u001b[0m\u001b[0m\n\u001b[1;32m     96\u001b[0m             \u001b[0moptimize_opts\u001b[0m \u001b[0;34m=\u001b[0m \u001b[0;34m{\u001b[0m\u001b[0;34m}\u001b[0m\u001b[0;34m\u001b[0m\u001b[0m\n\u001b[0;32m---> 97\u001b[0;31m         \u001b[0moptimize_result\u001b[0m \u001b[0;34m=\u001b[0m \u001b[0mself\u001b[0m\u001b[0;34m.\u001b[0m\u001b[0moptimize\u001b[0m\u001b[0;34m(\u001b[0m\u001b[0;34m**\u001b[0m\u001b[0moptimize_opts\u001b[0m\u001b[0;34m)\u001b[0m\u001b[0;34m\u001b[0m\u001b[0m\n\u001b[0m\u001b[1;32m     98\u001b[0m \u001b[0;34m\u001b[0m\u001b[0m\n\u001b[1;32m     99\u001b[0m         \u001b[0;32mif\u001b[0m \u001b[0mcovariance_opts\u001b[0m \u001b[0;32mis\u001b[0m \u001b[0;32mNone\u001b[0m\u001b[0;34m:\u001b[0m\u001b[0;34m\u001b[0m\u001b[0m\n",
      "\u001b[0;32m~/software/miniconda3/envs/gammapy-0.16/lib/python3.7/site-packages/gammapy/modeling/fit.py\u001b[0m in \u001b[0;36moptimize\u001b[0;34m(self, backend, **kwargs)\u001b[0m\n\u001b[1;32m    156\u001b[0m         \u001b[0;31m# and return something simpler, not a tuple of three things\u001b[0m\u001b[0;34m\u001b[0m\u001b[0;34m\u001b[0m\u001b[0m\n\u001b[1;32m    157\u001b[0m         factors, info, optimizer = compute(\n\u001b[0;32m--> 158\u001b[0;31m             \u001b[0mparameters\u001b[0m\u001b[0;34m=\u001b[0m\u001b[0mparameters\u001b[0m\u001b[0;34m,\u001b[0m \u001b[0mfunction\u001b[0m\u001b[0;34m=\u001b[0m\u001b[0mself\u001b[0m\u001b[0;34m.\u001b[0m\u001b[0mdatasets\u001b[0m\u001b[0;34m.\u001b[0m\u001b[0mstat_sum\u001b[0m\u001b[0;34m,\u001b[0m \u001b[0;34m**\u001b[0m\u001b[0mkwargs\u001b[0m\u001b[0;34m\u001b[0m\u001b[0m\n\u001b[0m\u001b[1;32m    159\u001b[0m         )\n\u001b[1;32m    160\u001b[0m \u001b[0;34m\u001b[0m\u001b[0m\n",
      "\u001b[0;32m~/software/miniconda3/envs/gammapy-0.16/lib/python3.7/site-packages/gammapy/modeling/iminuit.py\u001b[0m in \u001b[0;36moptimize_iminuit\u001b[0;34m(parameters, function, **kwargs)\u001b[0m\n\u001b[1;32m     51\u001b[0m     \u001b[0mtol\u001b[0m \u001b[0;34m=\u001b[0m \u001b[0mkwargs\u001b[0m\u001b[0;34m.\u001b[0m\u001b[0mpop\u001b[0m\u001b[0;34m(\u001b[0m\u001b[0;34m\"tol\"\u001b[0m\u001b[0;34m,\u001b[0m \u001b[0;36m0.1\u001b[0m\u001b[0;34m)\u001b[0m\u001b[0;34m\u001b[0m\u001b[0m\n\u001b[1;32m     52\u001b[0m     \u001b[0mminuit\u001b[0m \u001b[0;34m=\u001b[0m \u001b[0mMinuit\u001b[0m\u001b[0;34m(\u001b[0m\u001b[0mminuit_func\u001b[0m\u001b[0;34m.\u001b[0m\u001b[0mfcn\u001b[0m\u001b[0;34m,\u001b[0m \u001b[0;34m**\u001b[0m\u001b[0mkwargs\u001b[0m\u001b[0;34m)\u001b[0m\u001b[0;34m\u001b[0m\u001b[0m\n\u001b[0;32m---> 53\u001b[0;31m     \u001b[0mminuit\u001b[0m\u001b[0;34m.\u001b[0m\u001b[0mmigrad\u001b[0m\u001b[0;34m(\u001b[0m\u001b[0;34m**\u001b[0m\u001b[0mmigrad_opts\u001b[0m\u001b[0;34m)\u001b[0m\u001b[0;34m\u001b[0m\u001b[0m\n\u001b[0m\u001b[1;32m     54\u001b[0m     \u001b[0mminuit\u001b[0m\u001b[0;34m.\u001b[0m\u001b[0mtol\u001b[0m \u001b[0;34m=\u001b[0m \u001b[0mtol\u001b[0m\u001b[0;34m\u001b[0m\u001b[0m\n\u001b[1;32m     55\u001b[0m     \u001b[0mminuit\u001b[0m\u001b[0;34m.\u001b[0m\u001b[0mset_strategy\u001b[0m\u001b[0;34m(\u001b[0m\u001b[0mstrategy\u001b[0m\u001b[0;34m)\u001b[0m\u001b[0;34m\u001b[0m\u001b[0m\n",
      "\u001b[0;32miminuit/_libiminuit.pyx\u001b[0m in \u001b[0;36miminuit._libiminuit.Minuit.migrad\u001b[0;34m()\u001b[0m\n",
      "\u001b[0;31mRuntimeError\u001b[0m: exception was raised in user function\nUser function arguments:\n    par_000_spectrum_norm = +1.000000\n               par_001_p1 = +2.000000\n               par_002_p2 = +3.600000\n          par_003_gamma_b = +1.000000\n                par_004_B = +1.000000\nOriginal python exception in user function:\nAttributeError: 'Blob' object has no attribute 'n_e'\n  File \"/Users/cosimo/software/miniconda3/envs/gammapy-0.16/lib/python3.7/site-packages/gammapy/modeling/iminuit.py\", line 17, in fcn\n    return self.function()\n  File \"/Users/cosimo/software/miniconda3/envs/gammapy-0.16/lib/python3.7/site-packages/gammapy/modeling/datasets.py\", line 149, in stat_sum\n    stat_sum += dataset.stat_sum()\n  File \"/Users/cosimo/software/miniconda3/envs/gammapy-0.16/lib/python3.7/site-packages/gammapy/modeling/datasets.py\", line 55, in stat_sum\n    stat = self.stat_array()\n  File \"/Users/cosimo/software/miniconda3/envs/gammapy-0.16/lib/python3.7/site-packages/gammapy/spectrum/flux_point.py\", line 1359, in stat_array\n    model = self.flux_pred()\n  File \"/Users/cosimo/software/miniconda3/envs/gammapy-0.16/lib/python3.7/site-packages/gammapy/spectrum/flux_point.py\", line 1354, in flux_pred\n    flux += component.spectral_model(self.data.e_ref)\n  File \"/Users/cosimo/software/miniconda3/envs/gammapy-0.16/lib/python3.7/site-packages/gammapy/modeling/models/spectral.py\", line 63, in __call__\n    return self.evaluate(energy, **kwargs)\n  File \"<ipython-input-6-66a347560d4a>\", line 32, in evaluate\n    ssc = SynchrotronSelfCompton(blob, synch)\n  File \"/Users/cosimo/software/miniconda3/envs/gammapy-0.16/lib/python3.7/site-packages/agnpy/compton.py\", line 152, in __init__\n    self.epsilon_syn\n  File \"/Users/cosimo/software/miniconda3/envs/gammapy-0.16/lib/python3.7/site-packages/agnpy/synchrotron.py\", line 130, in com_sed_emissivity\n    N_e = self.blob.N_e(gamma).value\n  File \"/Users/cosimo/software/miniconda3/envs/gammapy-0.16/lib/python3.7/site-packages/agnpy/emission_regions.py\", line 150, in N_e\n    return self.V_b * self.n_e(gamma)\n"
     ]
    }
   ],
   "source": [
    "ssc_model = SSC()\n",
    "model = SkyModel(spectral_model=ssc_model)\n",
    "dataset_ssc = FluxPointsDataset(model, flux_points.to_sed_type(\"dnde\"))\n",
    "fitter = Fit([dataset_ssc])\n",
    "result_ssc = fitter.run()"
   ]
  },
  {
   "cell_type": "code",
   "execution_count": null,
   "metadata": {},
   "outputs": [],
   "source": []
  }
 ],
 "metadata": {
  "kernelspec": {
   "display_name": "Python 3",
   "language": "python",
   "name": "python3"
  },
  "language_info": {
   "codemirror_mode": {
    "name": "ipython",
    "version": 3
   },
   "file_extension": ".py",
   "mimetype": "text/x-python",
   "name": "python",
   "nbconvert_exporter": "python",
   "pygments_lexer": "ipython3",
   "version": "3.7.0"
  }
 },
 "nbformat": 4,
 "nbformat_minor": 4
}
